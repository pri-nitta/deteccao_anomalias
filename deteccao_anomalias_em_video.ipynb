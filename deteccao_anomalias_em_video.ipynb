{
  "nbformat": 4,
  "nbformat_minor": 0,
  "metadata": {
    "colab": {
      "provenance": [],
      "authorship_tag": "ABX9TyMGUVmA8OV+kXOr1C7j0EpA",
      "include_colab_link": true
    },
    "kernelspec": {
      "name": "python3",
      "display_name": "Python 3"
    },
    "language_info": {
      "name": "python"
    }
  },
  "cells": [
    {
      "cell_type": "markdown",
      "metadata": {
        "id": "view-in-github",
        "colab_type": "text"
      },
      "source": [
        "<a href=\"https://colab.research.google.com/github/pri-nitta/deteccao_anomalias/blob/main/deteccao_anomalias_em_video.ipynb\" target=\"_parent\"><img src=\"https://colab.research.google.com/assets/colab-badge.svg\" alt=\"Open In Colab\"/></a>"
      ]
    },
    {
      "cell_type": "code",
      "execution_count": 1,
      "metadata": {
        "id": "Ch6H7bJ03nky"
      },
      "outputs": [],
      "source": [
        "import cv2\n",
        "import numpy as np\n",
        "from google.colab import files\n",
        "from base64 import b64encode\n",
        "from IPython.display import HTML"
      ]
    },
    {
      "cell_type": "markdown",
      "source": [
        "Upload do vídeo no Colab"
      ],
      "metadata": {
        "id": "PZQBs2av5BLX"
      }
    },
    {
      "cell_type": "code",
      "source": [
        "uploaded = files.upload()\n",
        "video_path = list(uploaded.keys())[0]"
      ],
      "metadata": {
        "id": "pi-N5H4S3uYw"
      },
      "execution_count": null,
      "outputs": []
    },
    {
      "cell_type": "markdown",
      "source": [
        "Abrindo e configurando o vídeo de saída"
      ],
      "metadata": {
        "id": "-6k5FKB04-_P"
      }
    },
    {
      "cell_type": "code",
      "source": [
        "cap = cv2.VideoCapture(video_path)\n",
        "\n",
        "\n",
        "fourcc = cv2.VideoWriter_fourcc(*'mp4v')\n",
        "\n",
        "# manter a mesma fluidez, retorna o mesmo fps\n",
        "fps = int(cap.get(cv2.CAP_PROP_FPS))\n",
        "\n",
        "\n",
        "width = int(cap.get(cv2.CAP_PROP_FRAME_WIDTH))\n",
        "height = int(cap.get(cv2.CAP_PROP_FRAME_HEIGHT))\n",
        "out = cv2.VideoWriter('output_anomaly_detection.mp4', fourcc, fps, (width, height)"
      ],
      "metadata": {
        "id": "NQQYneak40Fh"
      },
      "execution_count": null,
      "outputs": []
    },
    {
      "cell_type": "markdown",
      "source": [
        "Subtração de fundo para detectar objetos estáticos"
      ],
      "metadata": {
        "id": "0yM-91oh49MO"
      }
    },
    {
      "cell_type": "code",
      "source": [
        "fgbg = cv2.createBackgroundSubtractorMOG2(history=500, varThreshold=50, detectShadows=True)\n",
        "\n",
        "while cap.isOpened():\n",
        "    ret, frame = cap.read()\n",
        "    if not ret:\n",
        "        break\n",
        "\n",
        "    # Aplica subtração de fundo\n",
        "    fgmask = fgbg.apply(frame)\n",
        "\n",
        "    # Remove ruídos pequenos\n",
        "    kernel = cv2.getStructuringElement(cv2.MORPH_ELLIPSE, (3, 3))\n",
        "    fgmask_cleaned = cv2.morphologyEx(fgmask, cv2.MORPH_OPEN, kernel)\n",
        "\n",
        "    # Encontra contornos nos objetos detectados\n",
        "    contours, _ = cv2.findContours(fgmask_cleaned, cv2.RETR_EXTERNAL, cv2.CHAIN_APPROX_SIMPLE)\n",
        "\n",
        "    for contour in contours:\n",
        "        if cv2.contourArea(contour) > 500:  # Define um limite mínimo para considerar como objeto\n",
        "            x, y, w, h = cv2.boundingRect(contour)\n",
        "            cv2.rectangle(frame, (x, y), (x+w, y+h), (0, 0, 255), 2)  # Destaca o objeto com retângulo vermelho\n",
        "            cv2.putText(frame, \"ANOMALY DETECTED\", (x, y - 10), cv2.FONT_HERSHEY_SIMPLEX, 0.5, (0, 0, 255), 2)\n",
        "\n",
        "    # Salva o frame processado\n",
        "    out.write(frame)\n",
        "\n",
        "cap.release()\n",
        "out.release()"
      ],
      "metadata": {
        "id": "X9xrRzC741wg"
      },
      "execution_count": null,
      "outputs": []
    },
    {
      "cell_type": "markdown",
      "source": [
        "Exibindo o vídeo processado"
      ],
      "metadata": {
        "id": "4SL59GqA445n"
      }
    },
    {
      "cell_type": "code",
      "source": [
        "mp4 = open('output_anomaly_detection.mp4', 'rb').read()\n",
        "data_url = \"data:video/mp4;base64,\" + b64encode(mp4).decode()\n",
        "HTML(f'<video width=\"640\" height=\"480\" controls><source src=\"{data_url}\" type=\"video/mp4\"></video>')"
      ],
      "metadata": {
        "id": "fLPryWHa430E"
      },
      "execution_count": null,
      "outputs": []
    }
  ]
}